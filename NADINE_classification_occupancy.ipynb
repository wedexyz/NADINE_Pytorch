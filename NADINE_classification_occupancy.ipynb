{
 "cells": [
  {
   "cell_type": "code",
   "execution_count": 1,
   "metadata": {},
   "outputs": [],
   "source": [
    "from NADINEmainloop import NADINEmain, NADINEmainId\n",
    "from NADINEbasic import NADINE\n",
    "from utilsNADINE import dataLoader, plotPerformance\n",
    "import random\n",
    "import torch\n",
    "import numpy as np"
   ]
  },
  {
   "cell_type": "code",
   "execution_count": null,
   "metadata": {},
   "outputs": [],
   "source": []
  },
  {
   "cell_type": "code",
   "execution_count": 2,
   "metadata": {},
   "outputs": [],
   "source": [
    "# random seed control\n",
    "np.random.seed(0)\n",
    "torch.manual_seed(0)\n",
    "random.seed(0)"
   ]
  },
  {
   "cell_type": "code",
   "execution_count": 3,
   "metadata": {},
   "outputs": [
    {
     "name": "stdout",
     "output_type": "stream",
     "text": [
      "Number of input:  5\n",
      "Number of output:  2\n",
      "Number of batch:  20\n"
     ]
    }
   ],
   "source": [
    "# load data\n",
    "dataStreams = dataLoader('../dataset/occupancy2.mat')"
   ]
  },
  {
   "cell_type": "code",
   "execution_count": 4,
   "metadata": {},
   "outputs": [
    {
     "name": "stdout",
     "output_type": "stream",
     "text": [
      "All Data\n"
     ]
    }
   ],
   "source": [
    "print('All Data')"
   ]
  },
  {
   "cell_type": "code",
   "execution_count": 5,
   "metadata": {},
   "outputs": [],
   "source": [
    "allMetrics = []"
   ]
  },
  {
   "cell_type": "code",
   "execution_count": 6,
   "metadata": {},
   "outputs": [],
   "source": [
    "# initialization\n",
    "NADINEnet = NADINE(dataStreams.nInput,dataStreams.nOutput)"
   ]
  },
  {
   "cell_type": "code",
   "execution_count": 7,
   "metadata": {
    "scrolled": true
   },
   "outputs": [
    {
     "name": "stderr",
     "output_type": "stream",
     "text": [
      "100% (20 of 20) |########################| Elapsed Time: 0:02:04 ETA:  00:00:00"
     ]
    },
    {
     "name": "stdout",
     "output_type": "stream",
     "text": [
      "\n",
      "\n",
      "=== Performance result ===\n",
      "Accuracy:  66.11578947368422 (+/-) 30.047370725816027\n",
      "Testing Loss:  0.7412801010681218 (+/-) 0.6840705728951348\n",
      "Precision:  0.6181622192982457\n",
      "Recall:  0.6611578947368421\n",
      "F1 score:  0.6374759268636577\n",
      "Testing Time:  0.007286536066155685 (+/-) 0.00912376189977876\n",
      "Training Time:  6.536074839140239 (+/-) 4.591203281621177\n",
      "\n",
      "\n",
      "=== Average network evolution ===\n",
      "Total hidden node:  37.578947368421055 (+/-) 16.432688185358778\n",
      "Number of layer:  6.2631578947368425 (+/-) 2.935124946020776\n",
      "\n",
      "\n",
      "=== Final network structure ===\n",
      "\n",
      " 1 -th layer\n",
      "hiddenLayerBasicNet(\n",
      "  (linear): Linear(in_features=5, out_features=7, bias=True)\n",
      "  (activation): Sigmoid()\n",
      ")\n",
      "No. of inputs : 5\n",
      "No. of nodes : 7\n",
      "No. of parameters : 42\n",
      "\n",
      " 2 -th layer\n",
      "hiddenLayerBasicNet(\n",
      "  (linear): Linear(in_features=7, out_features=4, bias=True)\n",
      "  (activation): Sigmoid()\n",
      ")\n",
      "No. of inputs : 7\n",
      "No. of nodes : 4\n",
      "No. of parameters : 32\n",
      "\n",
      " 3 -th layer\n",
      "hiddenLayerBasicNet(\n",
      "  (linear): Linear(in_features=4, out_features=9, bias=True)\n",
      "  (activation): Sigmoid()\n",
      ")\n",
      "No. of inputs : 4\n",
      "No. of nodes : 9\n",
      "No. of parameters : 45\n",
      "\n",
      " 4 -th layer\n",
      "hiddenLayerBasicNet(\n",
      "  (linear): Linear(in_features=9, out_features=7, bias=True)\n",
      "  (activation): Sigmoid()\n",
      ")\n",
      "No. of inputs : 9\n",
      "No. of nodes : 7\n",
      "No. of parameters : 70\n",
      "\n",
      " 5 -th layer\n",
      "hiddenLayerBasicNet(\n",
      "  (linear): Linear(in_features=7, out_features=6, bias=True)\n",
      "  (activation): Sigmoid()\n",
      ")\n",
      "No. of inputs : 7\n",
      "No. of nodes : 6\n",
      "No. of parameters : 48\n",
      "\n",
      " 6 -th layer\n",
      "hiddenLayerBasicNet(\n",
      "  (linear): Linear(in_features=6, out_features=5, bias=True)\n",
      "  (activation): Sigmoid()\n",
      ")\n",
      "No. of inputs : 6\n",
      "No. of nodes : 5\n",
      "No. of parameters : 35\n",
      "\n",
      " 7 -th layer\n",
      "hiddenLayerBasicNet(\n",
      "  (linear): Linear(in_features=5, out_features=7, bias=True)\n",
      "  (activation): Sigmoid()\n",
      ")\n",
      "No. of inputs : 5\n",
      "No. of nodes : 7\n",
      "No. of parameters : 42\n",
      "\n",
      " 8 -th layer\n",
      "hiddenLayerBasicNet(\n",
      "  (linear): Linear(in_features=7, out_features=4, bias=True)\n",
      "  (activation): Sigmoid()\n",
      ")\n",
      "No. of inputs : 7\n",
      "No. of nodes : 4\n",
      "No. of parameters : 32\n",
      "\n",
      " 9 -th layer\n",
      "hiddenLayerBasicNet(\n",
      "  (linear): Linear(in_features=4, out_features=5, bias=True)\n",
      "  (activation): Sigmoid()\n",
      ")\n",
      "No. of inputs : 4\n",
      "No. of nodes : 5\n",
      "No. of parameters : 25\n",
      "\n",
      " 10 -th layer\n",
      "hiddenLayerBasicNet(\n",
      "  (linear): Linear(in_features=5, out_features=4, bias=True)\n",
      "  (activation): Sigmoid()\n",
      ")\n",
      "No. of inputs : 5\n",
      "No. of nodes : 4\n",
      "No. of parameters : 24\n",
      "\n",
      " 11 -th layer\n",
      "hiddenLayerBasicNet(\n",
      "  (linear): Linear(in_features=4, out_features=3, bias=True)\n",
      "  (activation): Sigmoid()\n",
      ")\n",
      "No. of inputs : 4\n",
      "No. of nodes : 3\n",
      "No. of parameters : 15\n",
      "\n",
      " 12 -th layer\n",
      "outputLayerBasicNet(\n",
      "  (linearOutput): Linear(in_features=3, out_features=2, bias=True)\n",
      ")\n",
      "No. of inputs : 3\n",
      "No. of output : 2\n",
      "No. of parameters : 8\n",
      "Dynamic laerning rate for each hidden layer:  [0.0, 0.0, 0.0, 0.0, 0.0, 0.0, 0.0, 0.0, 0.0, 0.02, 0.02]\n"
     ]
    }
   ],
   "source": [
    "NADINEnet0, performanceHistory0, allPerformance = NADINEmain(NADINEnet,dataStreams)\n",
    "allMetrics.append(allPerformance)"
   ]
  },
  {
   "cell_type": "code",
   "execution_count": 8,
   "metadata": {
    "scrolled": false
   },
   "outputs": [
    {
     "data": {
      "image/png": "[encoded data removed]",
      "text/plain": [
       "<Figure size 576x864 with 4 Axes>"
      ]
     },
     "metadata": {
      "needs_background": "light"
     },
     "output_type": "display_data"
    }
   ],
   "source": [
    "plotPerformance(performanceHistory0[0],performanceHistory0[1],performanceHistory0[2],\n",
    "                performanceHistory0[3],performanceHistory0[4],performanceHistory0[5])"
   ]
  },
  {
   "cell_type": "code",
   "execution_count": null,
   "metadata": {},
   "outputs": [],
   "source": []
  },
  {
   "cell_type": "code",
   "execution_count": 9,
   "metadata": {},
   "outputs": [],
   "source": [
    "# initialization\n",
    "NADINEnet = NADINE(dataStreams.nInput,dataStreams.nOutput)"
   ]
  },
  {
   "cell_type": "code",
   "execution_count": 10,
   "metadata": {
    "scrolled": true
   },
   "outputs": [
    {
     "name": "stderr",
     "output_type": "stream",
     "text": [
      "100% (20 of 20) |########################| Elapsed Time: 0:01:45 ETA:  00:00:00"
     ]
    },
    {
     "name": "stdout",
     "output_type": "stream",
     "text": [
      "\n",
      "\n",
      "=== Performance result ===\n",
      "Accuracy:  71.83157894736841 (+/-) 26.190557813066082\n",
      "Testing Loss:  0.7240472659468651 (+/-) 0.749028527216173\n",
      "Precision:  0.5845494269005848\n",
      "Recall:  0.7183157894736842\n",
      "F1 score:  0.6445656508337739\n",
      "Testing Time:  0.009433432629233912 (+/-) 0.012511613330000159\n",
      "Training Time:  5.533352513062327 (+/-) 3.3371602590540013\n",
      "\n",
      "\n",
      "=== Average network evolution ===\n",
      "Total hidden node:  45.73684210526316 (+/-) 19.401145124269444\n",
      "Number of layer:  6.157894736842105 (+/-) 2.7959210495354583\n",
      "\n",
      "\n",
      "=== Final network structure ===\n",
      "\n",
      " 1 -th layer\n",
      "hiddenLayerBasicNet(\n",
      "  (linear): Linear(in_features=5, out_features=7, bias=True)\n",
      "  (activation): Sigmoid()\n",
      ")\n",
      "No. of inputs : 5\n",
      "No. of nodes : 7\n",
      "No. of parameters : 42\n",
      "\n",
      " 2 -th layer\n",
      "hiddenLayerBasicNet(\n",
      "  (linear): Linear(in_features=7, out_features=7, bias=True)\n",
      "  (activation): Sigmoid()\n",
      ")\n",
      "No. of inputs : 7\n",
      "No. of nodes : 7\n",
      "No. of parameters : 56\n",
      "\n",
      " 3 -th layer\n",
      "hiddenLayerBasicNet(\n",
      "  (linear): Linear(in_features=7, out_features=12, bias=True)\n",
      "  (activation): Sigmoid()\n",
      ")\n",
      "No. of inputs : 7\n",
      "No. of nodes : 12\n",
      "No. of parameters : 96\n",
      "\n",
      " 4 -th layer\n",
      "hiddenLayerBasicNet(\n",
      "  (linear): Linear(in_features=12, out_features=5, bias=True)\n",
      "  (activation): Sigmoid()\n",
      ")\n",
      "No. of inputs : 12\n",
      "No. of nodes : 5\n",
      "No. of parameters : 65\n",
      "\n",
      " 5 -th layer\n",
      "hiddenLayerBasicNet(\n",
      "  (linear): Linear(in_features=5, out_features=8, bias=True)\n",
      "  (activation): Sigmoid()\n",
      ")\n",
      "No. of inputs : 5\n",
      "No. of nodes : 8\n",
      "No. of parameters : 48\n",
      "\n",
      " 6 -th layer\n",
      "hiddenLayerBasicNet(\n",
      "  (linear): Linear(in_features=8, out_features=7, bias=True)\n",
      "  (activation): Sigmoid()\n",
      ")\n",
      "No. of inputs : 8\n",
      "No. of nodes : 7\n",
      "No. of parameters : 63\n",
      "\n",
      " 7 -th layer\n",
      "hiddenLayerBasicNet(\n",
      "  (linear): Linear(in_features=7, out_features=6, bias=True)\n",
      "  (activation): Sigmoid()\n",
      ")\n",
      "No. of inputs : 7\n",
      "No. of nodes : 6\n",
      "No. of parameters : 48\n",
      "\n",
      " 8 -th layer\n",
      "hiddenLayerBasicNet(\n",
      "  (linear): Linear(in_features=6, out_features=6, bias=True)\n",
      "  (activation): Sigmoid()\n",
      ")\n",
      "No. of inputs : 6\n",
      "No. of nodes : 6\n",
      "No. of parameters : 42\n",
      "\n",
      " 9 -th layer\n",
      "hiddenLayerBasicNet(\n",
      "  (linear): Linear(in_features=6, out_features=9, bias=True)\n",
      "  (activation): Sigmoid()\n",
      ")\n",
      "No. of inputs : 6\n",
      "No. of nodes : 9\n",
      "No. of parameters : 63\n",
      "\n",
      " 10 -th layer\n",
      "hiddenLayerBasicNet(\n",
      "  (linear): Linear(in_features=9, out_features=6, bias=True)\n",
      "  (activation): Sigmoid()\n",
      ")\n",
      "No. of inputs : 9\n",
      "No. of nodes : 6\n",
      "No. of parameters : 60\n",
      "\n",
      " 11 -th layer\n",
      "outputLayerBasicNet(\n",
      "  (linearOutput): Linear(in_features=6, out_features=2, bias=True)\n",
      ")\n",
      "No. of inputs : 6\n",
      "No. of output : 2\n",
      "No. of parameters : 14\n",
      "Dynamic laerning rate for each hidden layer:  [0.0, 0.0, 0.0, 0.0, 0.0, 0.0, 0.0, 0.0, 0.0, 0.02]\n"
     ]
    }
   ],
   "source": [
    "NADINEnet1, performanceHistory1, allPerformance = NADINEmain(NADINEnet,dataStreams)\n",
    "allMetrics.append(allPerformance)"
   ]
  },
  {
   "cell_type": "code",
   "execution_count": 11,
   "metadata": {},
   "outputs": [
    {
     "data": {
      "image/png": "[encoded data removed]",
      "text/plain": [
       "<Figure size 576x864 with 4 Axes>"
      ]
     },
     "metadata": {
      "needs_background": "light"
     },
     "output_type": "display_data"
    }
   ],
   "source": [
    "plotPerformance(performanceHistory1[0],performanceHistory1[1],performanceHistory1[2],\n",
    "                performanceHistory1[3],performanceHistory1[4],performanceHistory1[5])"
   ]
  },
  {
   "cell_type": "code",
   "execution_count": null,
   "metadata": {},
   "outputs": [],
   "source": []
  },
  {
   "cell_type": "code",
   "execution_count": 12,
   "metadata": {},
   "outputs": [],
   "source": [
    "# initialization\n",
    "NADINEnet = NADINE(dataStreams.nInput,dataStreams.nOutput)"
   ]
  },
  {
   "cell_type": "code",
   "execution_count": 13,
   "metadata": {
    "scrolled": true
   },
   "outputs": [
    {
     "name": "stderr",
     "output_type": "stream",
     "text": [
      "100% (20 of 20) |########################| Elapsed Time: 0:01:53 ETA:  00:00:00"
     ]
    },
    {
     "name": "stdout",
     "output_type": "stream",
     "text": [
      "\n",
      "\n",
      "=== Performance result ===\n",
      "Accuracy:  68.9578947368421 (+/-) 28.34010206476948\n",
      "Testing Loss:  0.7092476894245728 (+/-) 0.698875588285253\n",
      "Precision:  0.6098767306501547\n",
      "Recall:  0.6895789473684211\n",
      "F1 score:  0.6436429043085233\n",
      "Testing Time:  0.007861162486829255 (+/-) 0.01200886446978817\n",
      "Training Time:  5.967636861299214 (+/-) 3.9148443329189924\n",
      "\n",
      "\n",
      "=== Average network evolution ===\n",
      "Total hidden node:  35.78947368421053 (+/-) 15.646014953767557\n",
      "Number of layer:  6.2631578947368425 (+/-) 2.935124946020776\n",
      "\n",
      "\n",
      "=== Final network structure ===\n",
      "\n",
      " 1 -th layer\n",
      "hiddenLayerBasicNet(\n",
      "  (linear): Linear(in_features=5, out_features=5, bias=True)\n",
      "  (activation): Sigmoid()\n",
      ")\n",
      "No. of inputs : 5\n",
      "No. of nodes : 5\n",
      "No. of parameters : 30\n",
      "\n",
      " 2 -th layer\n",
      "hiddenLayerBasicNet(\n",
      "  (linear): Linear(in_features=5, out_features=5, bias=True)\n",
      "  (activation): Sigmoid()\n",
      ")\n",
      "No. of inputs : 5\n",
      "No. of nodes : 5\n",
      "No. of parameters : 30\n",
      "\n",
      " 3 -th layer\n",
      "hiddenLayerBasicNet(\n",
      "  (linear): Linear(in_features=5, out_features=10, bias=True)\n",
      "  (activation): Sigmoid()\n",
      ")\n",
      "No. of inputs : 5\n",
      "No. of nodes : 10\n",
      "No. of parameters : 60\n",
      "\n",
      " 4 -th layer\n",
      "hiddenLayerBasicNet(\n",
      "  (linear): Linear(in_features=10, out_features=6, bias=True)\n",
      "  (activation): Sigmoid()\n",
      ")\n",
      "No. of inputs : 10\n",
      "No. of nodes : 6\n",
      "No. of parameters : 66\n",
      "\n",
      " 5 -th layer\n",
      "hiddenLayerBasicNet(\n",
      "  (linear): Linear(in_features=6, out_features=6, bias=True)\n",
      "  (activation): Sigmoid()\n",
      ")\n",
      "No. of inputs : 6\n",
      "No. of nodes : 6\n",
      "No. of parameters : 42\n",
      "\n",
      " 6 -th layer\n",
      "hiddenLayerBasicNet(\n",
      "  (linear): Linear(in_features=6, out_features=4, bias=True)\n",
      "  (activation): Sigmoid()\n",
      ")\n",
      "No. of inputs : 6\n",
      "No. of nodes : 4\n",
      "No. of parameters : 28\n",
      "\n",
      " 7 -th layer\n",
      "hiddenLayerBasicNet(\n",
      "  (linear): Linear(in_features=4, out_features=5, bias=True)\n",
      "  (activation): Sigmoid()\n",
      ")\n",
      "No. of inputs : 4\n",
      "No. of nodes : 5\n",
      "No. of parameters : 25\n",
      "\n",
      " 8 -th layer\n",
      "hiddenLayerBasicNet(\n",
      "  (linear): Linear(in_features=5, out_features=4, bias=True)\n",
      "  (activation): Sigmoid()\n",
      ")\n",
      "No. of inputs : 5\n",
      "No. of nodes : 4\n",
      "No. of parameters : 24\n",
      "\n",
      " 9 -th layer\n",
      "hiddenLayerBasicNet(\n",
      "  (linear): Linear(in_features=4, out_features=4, bias=True)\n",
      "  (activation): Sigmoid()\n",
      ")\n",
      "No. of inputs : 4\n",
      "No. of nodes : 4\n",
      "No. of parameters : 20\n",
      "\n",
      " 10 -th layer\n",
      "hiddenLayerBasicNet(\n",
      "  (linear): Linear(in_features=4, out_features=9, bias=True)\n",
      "  (activation): Sigmoid()\n",
      ")\n",
      "No. of inputs : 4\n",
      "No. of nodes : 9\n",
      "No. of parameters : 45\n",
      "\n",
      " 11 -th layer\n",
      "hiddenLayerBasicNet(\n",
      "  (linear): Linear(in_features=9, out_features=4, bias=True)\n",
      "  (activation): Sigmoid()\n",
      ")\n",
      "No. of inputs : 9\n",
      "No. of nodes : 4\n",
      "No. of parameters : 40\n",
      "\n",
      " 12 -th layer\n",
      "outputLayerBasicNet(\n",
      "  (linearOutput): Linear(in_features=4, out_features=2, bias=True)\n",
      ")\n",
      "No. of inputs : 4\n",
      "No. of output : 2\n",
      "No. of parameters : 10\n",
      "Dynamic laerning rate for each hidden layer:  [0.0, 0.0, 0.0, 0.0, 0.0, 0.0, 0.0, 0.0, 0.0, 0.02, 0.02]\n"
     ]
    }
   ],
   "source": [
    "NADINEnet2, performanceHistory2, allPerformance = NADINEmain(NADINEnet,dataStreams)\n",
    "allMetrics.append(allPerformance)"
   ]
  },
  {
   "cell_type": "code",
   "execution_count": 14,
   "metadata": {},
   "outputs": [
    {
     "data": {
      "image/png": "[encoded data removed]",
      "text/plain": [
       "<Figure size 576x864 with 4 Axes>"
      ]
     },
     "metadata": {
      "needs_background": "light"
     },
     "output_type": "display_data"
    }
   ],
   "source": [
    "plotPerformance(performanceHistory2[0],performanceHistory2[1],performanceHistory2[2],\n",
    "                performanceHistory2[3],performanceHistory2[4],performanceHistory2[5])"
   ]
  },
  {
   "cell_type": "code",
   "execution_count": null,
   "metadata": {},
   "outputs": [],
   "source": []
  },
  {
   "cell_type": "code",
   "execution_count": 15,
   "metadata": {},
   "outputs": [],
   "source": [
    "# initialization\n",
    "NADINEnet = NADINE(dataStreams.nInput,dataStreams.nOutput)"
   ]
  },
  {
   "cell_type": "code",
   "execution_count": 16,
   "metadata": {
    "scrolled": true
   },
   "outputs": [
    {
     "name": "stderr",
     "output_type": "stream",
     "text": [
      "100% (20 of 20) |########################| Elapsed Time: 0:01:58 ETA:  00:00:00"
     ]
    },
    {
     "name": "stdout",
     "output_type": "stream",
     "text": [
      "\n",
      "\n",
      "=== Performance result ===\n",
      "Accuracy:  68.9578947368421 (+/-) 28.34010206476948\n",
      "Testing Loss:  0.733951413035883 (+/-) 0.7416578402290809\n",
      "Precision:  0.6098767306501547\n",
      "Recall:  0.6895789473684211\n",
      "F1 score:  0.6436429043085233\n",
      "Testing Time:  0.008383939140721372 (+/-) 0.011316250142429592\n",
      "Training Time:  6.212406271382382 (+/-) 4.354191566732644\n",
      "\n",
      "\n",
      "=== Average network evolution ===\n",
      "Total hidden node:  43.68421052631579 (+/-) 19.45318978465444\n",
      "Number of layer:  6.2631578947368425 (+/-) 2.935124946020776\n",
      "\n",
      "\n",
      "=== Final network structure ===\n",
      "\n",
      " 1 -th layer\n",
      "hiddenLayerBasicNet(\n",
      "  (linear): Linear(in_features=5, out_features=8, bias=True)\n",
      "  (activation): Sigmoid()\n",
      ")\n",
      "No. of inputs : 5\n",
      "No. of nodes : 8\n",
      "No. of parameters : 48\n",
      "\n",
      " 2 -th layer\n",
      "hiddenLayerBasicNet(\n",
      "  (linear): Linear(in_features=8, out_features=5, bias=True)\n",
      "  (activation): Sigmoid()\n",
      ")\n",
      "No. of inputs : 8\n",
      "No. of nodes : 5\n",
      "No. of parameters : 45\n",
      "\n",
      " 3 -th layer\n",
      "hiddenLayerBasicNet(\n",
      "  (linear): Linear(in_features=5, out_features=11, bias=True)\n",
      "  (activation): Sigmoid()\n",
      ")\n",
      "No. of inputs : 5\n",
      "No. of nodes : 11\n",
      "No. of parameters : 66\n",
      "\n",
      " 4 -th layer\n",
      "hiddenLayerBasicNet(\n",
      "  (linear): Linear(in_features=11, out_features=6, bias=True)\n",
      "  (activation): Sigmoid()\n",
      ")\n",
      "No. of inputs : 11\n",
      "No. of nodes : 6\n",
      "No. of parameters : 72\n",
      "\n",
      " 5 -th layer\n",
      "hiddenLayerBasicNet(\n",
      "  (linear): Linear(in_features=6, out_features=9, bias=True)\n",
      "  (activation): Sigmoid()\n",
      ")\n",
      "No. of inputs : 6\n",
      "No. of nodes : 9\n",
      "No. of parameters : 63\n",
      "\n",
      " 6 -th layer\n",
      "hiddenLayerBasicNet(\n",
      "  (linear): Linear(in_features=9, out_features=3, bias=True)\n",
      "  (activation): Sigmoid()\n",
      ")\n",
      "No. of inputs : 9\n",
      "No. of nodes : 3\n",
      "No. of parameters : 30\n",
      "\n",
      " 7 -th layer\n",
      "hiddenLayerBasicNet(\n",
      "  (linear): Linear(in_features=3, out_features=6, bias=True)\n",
      "  (activation): Sigmoid()\n",
      ")\n",
      "No. of inputs : 3\n",
      "No. of nodes : 6\n",
      "No. of parameters : 24\n",
      "\n",
      " 8 -th layer\n",
      "hiddenLayerBasicNet(\n",
      "  (linear): Linear(in_features=6, out_features=8, bias=True)\n",
      "  (activation): Sigmoid()\n",
      ")\n",
      "No. of inputs : 6\n",
      "No. of nodes : 8\n",
      "No. of parameters : 56\n",
      "\n",
      " 9 -th layer\n",
      "hiddenLayerBasicNet(\n",
      "  (linear): Linear(in_features=8, out_features=6, bias=True)\n",
      "  (activation): Sigmoid()\n",
      ")\n",
      "No. of inputs : 8\n",
      "No. of nodes : 6\n",
      "No. of parameters : 54\n",
      "\n",
      " 10 -th layer\n",
      "hiddenLayerBasicNet(\n",
      "  (linear): Linear(in_features=6, out_features=6, bias=True)\n",
      "  (activation): Sigmoid()\n",
      ")\n",
      "No. of inputs : 6\n",
      "No. of nodes : 6\n",
      "No. of parameters : 42\n",
      "\n",
      " 11 -th layer\n",
      "hiddenLayerBasicNet(\n",
      "  (linear): Linear(in_features=6, out_features=4, bias=True)\n",
      "  (activation): Sigmoid()\n",
      ")\n",
      "No. of inputs : 6\n",
      "No. of nodes : 4\n",
      "No. of parameters : 28\n",
      "\n",
      " 12 -th layer\n",
      "outputLayerBasicNet(\n",
      "  (linearOutput): Linear(in_features=4, out_features=2, bias=True)\n",
      ")\n",
      "No. of inputs : 4\n",
      "No. of output : 2\n",
      "No. of parameters : 10\n",
      "Dynamic laerning rate for each hidden layer:  [0.0, 0.0, 0.0, 0.0, 0.0, 0.0, 0.0, 0.0, 0.0, 0.02, 0.02]\n"
     ]
    }
   ],
   "source": [
    "NADINEnet3, performanceHistory3, allPerformance = NADINEmain(NADINEnet,dataStreams)\n",
    "allMetrics.append(allPerformance)"
   ]
  },
  {
   "cell_type": "code",
   "execution_count": 17,
   "metadata": {},
   "outputs": [
    {
     "data": {
      "image/png": "[encoded data removed]",
      "text/plain": [
       "<Figure size 576x864 with 4 Axes>"
      ]
     },
     "metadata": {
      "needs_background": "light"
     },
     "output_type": "display_data"
    }
   ],
   "source": [
    "plotPerformance(performanceHistory3[0],performanceHistory3[1],performanceHistory3[2],\n",
    "                performanceHistory3[3],performanceHistory3[4],performanceHistory3[5])"
   ]
  },
  {
   "cell_type": "code",
   "execution_count": null,
   "metadata": {},
   "outputs": [],
   "source": []
  },
  {
   "cell_type": "code",
   "execution_count": 18,
   "metadata": {},
   "outputs": [],
   "source": [
    "# initialization\n",
    "NADINEnet = NADINE(dataStreams.nInput,dataStreams.nOutput)"
   ]
  },
  {
   "cell_type": "code",
   "execution_count": 19,
   "metadata": {
    "scrolled": true
   },
   "outputs": [
    {
     "name": "stderr",
     "output_type": "stream",
     "text": [
      "100% (20 of 20) |########################| Elapsed Time: 0:01:58 ETA:  00:00:00"
     ]
    },
    {
     "name": "stdout",
     "output_type": "stream",
     "text": [
      "\n",
      "\n",
      "=== Performance result ===\n",
      "Accuracy:  68.9578947368421 (+/-) 28.34010206476948\n",
      "Testing Loss:  0.7405205968963472 (+/-) 0.7397431926110908\n",
      "Precision:  0.6098767306501547\n",
      "Recall:  0.6895789473684211\n",
      "F1 score:  0.6436429043085233\n",
      "Testing Time:  0.009486512133949682 (+/-) 0.01033369045641163\n",
      "Training Time:  6.219024294301083 (+/-) 4.2290307983062485\n",
      "\n",
      "\n",
      "=== Average network evolution ===\n",
      "Total hidden node:  48.05263157894737 (+/-) 19.967008800599384\n",
      "Number of layer:  6.2631578947368425 (+/-) 2.935124946020776\n",
      "\n",
      "\n",
      "=== Final network structure ===\n",
      "\n",
      " 1 -th layer\n",
      "hiddenLayerBasicNet(\n",
      "  (linear): Linear(in_features=5, out_features=10, bias=True)\n",
      "  (activation): Sigmoid()\n",
      ")\n",
      "No. of inputs : 5\n",
      "No. of nodes : 10\n",
      "No. of parameters : 60\n",
      "\n",
      " 2 -th layer\n",
      "hiddenLayerBasicNet(\n",
      "  (linear): Linear(in_features=10, out_features=5, bias=True)\n",
      "  (activation): Sigmoid()\n",
      ")\n",
      "No. of inputs : 10\n",
      "No. of nodes : 5\n",
      "No. of parameters : 55\n",
      "\n",
      " 3 -th layer\n",
      "hiddenLayerBasicNet(\n",
      "  (linear): Linear(in_features=5, out_features=13, bias=True)\n",
      "  (activation): Sigmoid()\n",
      ")\n",
      "No. of inputs : 5\n",
      "No. of nodes : 13\n",
      "No. of parameters : 78\n",
      "\n",
      " 4 -th layer\n",
      "hiddenLayerBasicNet(\n",
      "  (linear): Linear(in_features=13, out_features=8, bias=True)\n",
      "  (activation): Sigmoid()\n",
      ")\n",
      "No. of inputs : 13\n",
      "No. of nodes : 8\n",
      "No. of parameters : 112\n",
      "\n",
      " 5 -th layer\n",
      "hiddenLayerBasicNet(\n",
      "  (linear): Linear(in_features=8, out_features=6, bias=True)\n",
      "  (activation): Sigmoid()\n",
      ")\n",
      "No. of inputs : 8\n",
      "No. of nodes : 6\n",
      "No. of parameters : 54\n",
      "\n",
      " 6 -th layer\n",
      "hiddenLayerBasicNet(\n",
      "  (linear): Linear(in_features=6, out_features=4, bias=True)\n",
      "  (activation): Sigmoid()\n",
      ")\n",
      "No. of inputs : 6\n",
      "No. of nodes : 4\n",
      "No. of parameters : 28\n",
      "\n",
      " 7 -th layer\n",
      "hiddenLayerBasicNet(\n",
      "  (linear): Linear(in_features=4, out_features=7, bias=True)\n",
      "  (activation): Sigmoid()\n",
      ")\n",
      "No. of inputs : 4\n",
      "No. of nodes : 7\n",
      "No. of parameters : 35\n",
      "\n",
      " 8 -th layer\n",
      "hiddenLayerBasicNet(\n",
      "  (linear): Linear(in_features=7, out_features=8, bias=True)\n",
      "  (activation): Sigmoid()\n",
      ")\n",
      "No. of inputs : 7\n",
      "No. of nodes : 8\n",
      "No. of parameters : 64\n",
      "\n",
      " 9 -th layer\n",
      "hiddenLayerBasicNet(\n",
      "  (linear): Linear(in_features=8, out_features=6, bias=True)\n",
      "  (activation): Sigmoid()\n",
      ")\n",
      "No. of inputs : 8\n",
      "No. of nodes : 6\n",
      "No. of parameters : 54\n",
      "\n",
      " 10 -th layer\n",
      "hiddenLayerBasicNet(\n",
      "  (linear): Linear(in_features=6, out_features=6, bias=True)\n",
      "  (activation): Sigmoid()\n",
      ")\n",
      "No. of inputs : 6\n",
      "No. of nodes : 6\n",
      "No. of parameters : 42\n",
      "\n",
      " 11 -th layer\n",
      "hiddenLayerBasicNet(\n",
      "  (linear): Linear(in_features=6, out_features=6, bias=True)\n",
      "  (activation): Sigmoid()\n",
      ")\n",
      "No. of inputs : 6\n",
      "No. of nodes : 6\n",
      "No. of parameters : 42\n",
      "\n",
      " 12 -th layer\n",
      "outputLayerBasicNet(\n",
      "  (linearOutput): Linear(in_features=6, out_features=2, bias=True)\n",
      ")\n",
      "No. of inputs : 6\n",
      "No. of output : 2\n",
      "No. of parameters : 14\n",
      "Dynamic laerning rate for each hidden layer:  [0.0, 0.0, 0.0, 0.0, 0.0, 0.0, 0.0, 0.0, 0.0, 0.02, 0.02]\n"
     ]
    }
   ],
   "source": [
    "NADINEnet4, performanceHistory4, allPerformance = NADINEmain(NADINEnet,dataStreams)\n",
    "allMetrics.append(allPerformance)"
   ]
  },
  {
   "cell_type": "code",
   "execution_count": 20,
   "metadata": {},
   "outputs": [
    {
     "data": {
      "image/png": "[encoded data removed]",
      "text/plain": [
       "<Figure size 576x864 with 4 Axes>"
      ]
     },
     "metadata": {
      "needs_background": "light"
     },
     "output_type": "display_data"
    }
   ],
   "source": [
    "plotPerformance(performanceHistory4[0],performanceHistory4[1],performanceHistory4[2],\n",
    "                performanceHistory4[3],performanceHistory4[4],performanceHistory4[5])"
   ]
  },
  {
   "cell_type": "code",
   "execution_count": null,
   "metadata": {},
   "outputs": [],
   "source": []
  },
  {
   "cell_type": "code",
   "execution_count": 21,
   "metadata": {},
   "outputs": [
    {
     "name": "stdout",
     "output_type": "stream",
     "text": [
      "\n",
      "\n",
      "========== Performance occupancy ==========\n",
      "Preq Accuracy:  68.96 (+/-) 1.81\n",
      "F1 score:  0.64 (+/-) 0.0\n",
      "Precision:  0.61 (+/-) 0.01\n",
      "Recall:  0.69 (+/-) 0.02\n",
      "Training time:  6.09 (+/-) 0.33\n",
      "Testing time:  0.01 (+/-) 0.0\n",
      "\n",
      "\n",
      "========== Network ==========\n",
      "Number of hidden layers:  10.8 (+/-) 0.4\n",
      "Number of features:  69.4 (+/-) 6.89\n"
     ]
    }
   ],
   "source": [
    "# all results\n",
    "\n",
    "# 0: accuracy\n",
    "# 1: f1_score\n",
    "# 2: precision_score\n",
    "# 3: recall_score\n",
    "# 4: training_time\n",
    "# 5: testingTime\n",
    "# 6: nHiddenLayer\n",
    "# 7: nHiddenNode\n",
    "\n",
    "meanResults = np.round_(np.mean(allMetrics,0), decimals=2)\n",
    "stdResults  = np.round_(np.std(allMetrics,0), decimals=2)\n",
    "\n",
    "print('\\n')\n",
    "print('========== Performance occupancy ==========')\n",
    "print('Preq Accuracy: ', meanResults[0].item(), '(+/-)',stdResults[0].item())\n",
    "print('F1 score: ', meanResults[1].item(), '(+/-)',stdResults[1].item())\n",
    "print('Precision: ', meanResults[2].item(), '(+/-)',stdResults[2].item())\n",
    "print('Recall: ', meanResults[3].item(), '(+/-)',stdResults[3].item())\n",
    "print('Training time: ', meanResults[4].item(), '(+/-)',stdResults[4].item())\n",
    "print('Testing time: ', meanResults[5].item(), '(+/-)',stdResults[5].item())\n",
    "\n",
    "print('\\n')\n",
    "print('========== Network ==========')\n",
    "print('Number of hidden layers: ', meanResults[6].item(), '(+/-)',stdResults[6].item())\n",
    "print('Number of features: ', meanResults[7].item(), '(+/-)',stdResults[7].item())"
   ]
  },
  {
   "cell_type": "markdown",
   "metadata": {},
   "source": [
    "### 50% labeled data"
   ]
  },
  {
   "cell_type": "code",
   "execution_count": null,
   "metadata": {},
   "outputs": [],
   "source": [
    "print('50% Data')"
   ]
  },
  {
   "cell_type": "code",
   "execution_count": null,
   "metadata": {},
   "outputs": [],
   "source": [
    "allMetrics = []"
   ]
  },
  {
   "cell_type": "code",
   "execution_count": null,
   "metadata": {},
   "outputs": [],
   "source": [
    "# initialization\n",
    "NADINEnet = NADINE(dataStreams.nInput,dataStreams.nOutput)"
   ]
  },
  {
   "cell_type": "code",
   "execution_count": null,
   "metadata": {
    "scrolled": true
   },
   "outputs": [],
   "source": [
    "NADINEnet0, performanceHistory0, allPerformance = NADINEmain(NADINEnet,dataStreams,labeled = False, nLabeled = 0.5)\n",
    "allMetrics.append(allPerformance)"
   ]
  },
  {
   "cell_type": "code",
   "execution_count": null,
   "metadata": {
    "scrolled": false
   },
   "outputs": [],
   "source": [
    "plotPerformance(performanceHistory0[0],performanceHistory0[1],performanceHistory0[2],\n",
    "                performanceHistory0[3],performanceHistory0[4],performanceHistory0[5])"
   ]
  },
  {
   "cell_type": "code",
   "execution_count": null,
   "metadata": {},
   "outputs": [],
   "source": []
  },
  {
   "cell_type": "code",
   "execution_count": null,
   "metadata": {},
   "outputs": [],
   "source": [
    "# initialization\n",
    "NADINEnet = NADINE(dataStreams.nInput,dataStreams.nOutput)"
   ]
  },
  {
   "cell_type": "code",
   "execution_count": null,
   "metadata": {
    "scrolled": true
   },
   "outputs": [],
   "source": [
    "NADINEnet1, performanceHistory1, allPerformance = NADINEmain(NADINEnet,dataStreams,labeled = False, nLabeled = 0.5)\n",
    "allMetrics.append(allPerformance)"
   ]
  },
  {
   "cell_type": "code",
   "execution_count": null,
   "metadata": {},
   "outputs": [],
   "source": [
    "plotPerformance(performanceHistory1[0],performanceHistory1[1],performanceHistory1[2],\n",
    "                performanceHistory1[3],performanceHistory1[4],performanceHistory1[5])"
   ]
  },
  {
   "cell_type": "code",
   "execution_count": null,
   "metadata": {},
   "outputs": [],
   "source": []
  },
  {
   "cell_type": "code",
   "execution_count": null,
   "metadata": {},
   "outputs": [],
   "source": [
    "# initialization\n",
    "NADINEnet = NADINE(dataStreams.nInput,dataStreams.nOutput)"
   ]
  },
  {
   "cell_type": "code",
   "execution_count": null,
   "metadata": {
    "scrolled": true
   },
   "outputs": [],
   "source": [
    "NADINEnet2, performanceHistory2, allPerformance = NADINEmain(NADINEnet,dataStreams,labeled = False, nLabeled = 0.5)\n",
    "allMetrics.append(allPerformance)"
   ]
  },
  {
   "cell_type": "code",
   "execution_count": null,
   "metadata": {},
   "outputs": [],
   "source": [
    "plotPerformance(performanceHistory2[0],performanceHistory2[1],performanceHistory2[2],\n",
    "                performanceHistory2[3],performanceHistory2[4],performanceHistory2[5])"
   ]
  },
  {
   "cell_type": "code",
   "execution_count": null,
   "metadata": {},
   "outputs": [],
   "source": []
  },
  {
   "cell_type": "code",
   "execution_count": null,
   "metadata": {},
   "outputs": [],
   "source": [
    "# initialization\n",
    "NADINEnet = NADINE(dataStreams.nInput,dataStreams.nOutput)"
   ]
  },
  {
   "cell_type": "code",
   "execution_count": null,
   "metadata": {
    "scrolled": true
   },
   "outputs": [],
   "source": [
    "NADINEnet3, performanceHistory3, allPerformance = NADINEmain(NADINEnet,dataStreams,labeled = False, nLabeled = 0.5)\n",
    "allMetrics.append(allPerformance)"
   ]
  },
  {
   "cell_type": "code",
   "execution_count": null,
   "metadata": {},
   "outputs": [],
   "source": [
    "plotPerformance(performanceHistory3[0],performanceHistory3[1],performanceHistory3[2],\n",
    "                performanceHistory3[3],performanceHistory3[4],performanceHistory3[5])"
   ]
  },
  {
   "cell_type": "code",
   "execution_count": null,
   "metadata": {},
   "outputs": [],
   "source": []
  },
  {
   "cell_type": "code",
   "execution_count": null,
   "metadata": {},
   "outputs": [],
   "source": [
    "# initialization\n",
    "NADINEnet = NADINE(dataStreams.nInput,dataStreams.nOutput)"
   ]
  },
  {
   "cell_type": "code",
   "execution_count": null,
   "metadata": {
    "scrolled": true
   },
   "outputs": [],
   "source": [
    "NADINEnet4, performanceHistory4, allPerformance = NADINEmain(NADINEnet,dataStreams,labeled = False, nLabeled = 0.5)\n",
    "allMetrics.append(allPerformance)"
   ]
  },
  {
   "cell_type": "code",
   "execution_count": null,
   "metadata": {},
   "outputs": [],
   "source": [
    "plotPerformance(performanceHistory4[0],performanceHistory4[1],performanceHistory4[2],\n",
    "                performanceHistory4[3],performanceHistory4[4],performanceHistory4[5])"
   ]
  },
  {
   "cell_type": "code",
   "execution_count": null,
   "metadata": {},
   "outputs": [],
   "source": []
  },
  {
   "cell_type": "code",
   "execution_count": null,
   "metadata": {},
   "outputs": [],
   "source": [
    "# all results\n",
    "\n",
    "# 0: accuracy\n",
    "# 1: f1_score\n",
    "# 2: precision_score\n",
    "# 3: recall_score\n",
    "# 4: training_time\n",
    "# 5: testingTime\n",
    "# 6: nHiddenLayer\n",
    "# 7: nHiddenNode\n",
    "\n",
    "meanResults = np.round_(np.mean(allMetrics,0), decimals=2)\n",
    "stdResults  = np.round_(np.std(allMetrics,0), decimals=2)\n",
    "\n",
    "print('\\n')\n",
    "print('========== Performance occupancy ==========')\n",
    "print('Preq Accuracy: ', meanResults[0].item(), '(+/-)',stdResults[0].item())\n",
    "print('F1 score: ', meanResults[1].item(), '(+/-)',stdResults[1].item())\n",
    "print('Precision: ', meanResults[2].item(), '(+/-)',stdResults[2].item())\n",
    "print('Recall: ', meanResults[3].item(), '(+/-)',stdResults[3].item())\n",
    "print('Training time: ', meanResults[4].item(), '(+/-)',stdResults[4].item())\n",
    "print('Testing time: ', meanResults[5].item(), '(+/-)',stdResults[5].item())\n",
    "\n",
    "print('\\n')\n",
    "print('========== Network ==========')\n",
    "print('Number of hidden layers: ', meanResults[6].item(), '(+/-)',stdResults[6].item())\n",
    "print('Number of features: ', meanResults[7].item(), '(+/-)',stdResults[7].item())"
   ]
  },
  {
   "cell_type": "code",
   "execution_count": null,
   "metadata": {},
   "outputs": [],
   "source": []
  },
  {
   "cell_type": "markdown",
   "metadata": {},
   "source": [
    "### 25% Labeled Data"
   ]
  },
  {
   "cell_type": "code",
   "execution_count": null,
   "metadata": {},
   "outputs": [],
   "source": [
    "print('25% Data')"
   ]
  },
  {
   "cell_type": "code",
   "execution_count": null,
   "metadata": {},
   "outputs": [],
   "source": [
    "allMetrics = []"
   ]
  },
  {
   "cell_type": "code",
   "execution_count": null,
   "metadata": {},
   "outputs": [],
   "source": [
    "# initialization\n",
    "NADINEnet = NADINE(dataStreams.nInput,dataStreams.nOutput)"
   ]
  },
  {
   "cell_type": "code",
   "execution_count": null,
   "metadata": {
    "scrolled": true
   },
   "outputs": [],
   "source": [
    "NADINEnet0, performanceHistory0, allPerformance = NADINEmain(NADINEnet,dataStreams,labeled = False, nLabeled = 0.25)\n",
    "allMetrics.append(allPerformance)"
   ]
  },
  {
   "cell_type": "code",
   "execution_count": null,
   "metadata": {
    "scrolled": false
   },
   "outputs": [],
   "source": [
    "plotPerformance(performanceHistory0[0],performanceHistory0[1],performanceHistory0[2],\n",
    "                performanceHistory0[3],performanceHistory0[4],performanceHistory0[5])"
   ]
  },
  {
   "cell_type": "code",
   "execution_count": null,
   "metadata": {},
   "outputs": [],
   "source": []
  },
  {
   "cell_type": "code",
   "execution_count": null,
   "metadata": {},
   "outputs": [],
   "source": [
    "# initialization\n",
    "NADINEnet = NADINE(dataStreams.nInput,dataStreams.nOutput)"
   ]
  },
  {
   "cell_type": "code",
   "execution_count": null,
   "metadata": {
    "scrolled": true
   },
   "outputs": [],
   "source": [
    "NADINEnet1, performanceHistory1, allPerformance = NADINEmain(NADINEnet,dataStreams,labeled = False, nLabeled = 0.25)\n",
    "allMetrics.append(allPerformance)"
   ]
  },
  {
   "cell_type": "code",
   "execution_count": null,
   "metadata": {},
   "outputs": [],
   "source": [
    "plotPerformance(performanceHistory1[0],performanceHistory1[1],performanceHistory1[2],\n",
    "                performanceHistory1[3],performanceHistory1[4],performanceHistory1[5])"
   ]
  },
  {
   "cell_type": "code",
   "execution_count": null,
   "metadata": {},
   "outputs": [],
   "source": []
  },
  {
   "cell_type": "code",
   "execution_count": null,
   "metadata": {},
   "outputs": [],
   "source": [
    "# initialization\n",
    "NADINEnet = NADINE(dataStreams.nInput,dataStreams.nOutput)"
   ]
  },
  {
   "cell_type": "code",
   "execution_count": null,
   "metadata": {
    "scrolled": true
   },
   "outputs": [],
   "source": [
    "NADINEnet2, performanceHistory2, allPerformance = NADINEmain(NADINEnet,dataStreams,labeled = False, nLabeled = 0.25)\n",
    "allMetrics.append(allPerformance)"
   ]
  },
  {
   "cell_type": "code",
   "execution_count": null,
   "metadata": {},
   "outputs": [],
   "source": [
    "plotPerformance(performanceHistory2[0],performanceHistory2[1],performanceHistory2[2],\n",
    "                performanceHistory2[3],performanceHistory2[4],performanceHistory2[5])"
   ]
  },
  {
   "cell_type": "code",
   "execution_count": null,
   "metadata": {},
   "outputs": [],
   "source": []
  },
  {
   "cell_type": "code",
   "execution_count": null,
   "metadata": {},
   "outputs": [],
   "source": [
    "# initialization\n",
    "NADINEnet = NADINE(dataStreams.nInput,dataStreams.nOutput)"
   ]
  },
  {
   "cell_type": "code",
   "execution_count": null,
   "metadata": {
    "scrolled": true
   },
   "outputs": [],
   "source": [
    "NADINEnet3, performanceHistory3, allPerformance = NADINEmain(NADINEnet,dataStreams,labeled = False, nLabeled = 0.25)\n",
    "allMetrics.append(allPerformance)"
   ]
  },
  {
   "cell_type": "code",
   "execution_count": null,
   "metadata": {},
   "outputs": [],
   "source": [
    "plotPerformance(performanceHistory3[0],performanceHistory3[1],performanceHistory3[2],\n",
    "                performanceHistory3[3],performanceHistory3[4],performanceHistory3[5])"
   ]
  },
  {
   "cell_type": "code",
   "execution_count": null,
   "metadata": {},
   "outputs": [],
   "source": []
  },
  {
   "cell_type": "code",
   "execution_count": null,
   "metadata": {},
   "outputs": [],
   "source": [
    "# initialization\n",
    "NADINEnet = NADINE(dataStreams.nInput,dataStreams.nOutput)"
   ]
  },
  {
   "cell_type": "code",
   "execution_count": null,
   "metadata": {
    "scrolled": true
   },
   "outputs": [],
   "source": [
    "NADINEnet4, performanceHistory4, allPerformance = NADINEmain(NADINEnet,dataStreams,labeled = False, nLabeled = 0.25)\n",
    "allMetrics.append(allPerformance)"
   ]
  },
  {
   "cell_type": "code",
   "execution_count": null,
   "metadata": {},
   "outputs": [],
   "source": [
    "plotPerformance(performanceHistory4[0],performanceHistory4[1],performanceHistory4[2],\n",
    "                performanceHistory4[3],performanceHistory4[4],performanceHistory4[5])"
   ]
  },
  {
   "cell_type": "code",
   "execution_count": null,
   "metadata": {},
   "outputs": [],
   "source": []
  },
  {
   "cell_type": "code",
   "execution_count": null,
   "metadata": {},
   "outputs": [],
   "source": [
    "# all results\n",
    "\n",
    "# 0: accuracy\n",
    "# 1: f1_score\n",
    "# 2: precision_score\n",
    "# 3: recall_score\n",
    "# 4: training_time\n",
    "# 5: testingTime\n",
    "# 6: nHiddenLayer\n",
    "# 7: nHiddenNode\n",
    "\n",
    "meanResults = np.round_(np.mean(allMetrics,0), decimals=2)\n",
    "stdResults  = np.round_(np.std(allMetrics,0), decimals=2)\n",
    "\n",
    "print('\\n')\n",
    "print('========== Performance occupancy ==========')\n",
    "print('Preq Accuracy: ', meanResults[0].item(), '(+/-)',stdResults[0].item())\n",
    "print('F1 score: ', meanResults[1].item(), '(+/-)',stdResults[1].item())\n",
    "print('Precision: ', meanResults[2].item(), '(+/-)',stdResults[2].item())\n",
    "print('Recall: ', meanResults[3].item(), '(+/-)',stdResults[3].item())\n",
    "print('Training time: ', meanResults[4].item(), '(+/-)',stdResults[4].item())\n",
    "print('Testing time: ', meanResults[5].item(), '(+/-)',stdResults[5].item())\n",
    "\n",
    "print('\\n')\n",
    "print('========== Network ==========')\n",
    "print('Number of hidden layers: ', meanResults[6].item(), '(+/-)',stdResults[6].item())\n",
    "print('Number of features: ', meanResults[7].item(), '(+/-)',stdResults[7].item())"
   ]
  },
  {
   "cell_type": "code",
   "execution_count": null,
   "metadata": {},
   "outputs": [],
   "source": []
  },
  {
   "cell_type": "markdown",
   "metadata": {},
   "source": [
    "### Infinite Delay"
   ]
  },
  {
   "cell_type": "code",
   "execution_count": null,
   "metadata": {},
   "outputs": [],
   "source": [
    "print('Infinite Delay')"
   ]
  },
  {
   "cell_type": "code",
   "execution_count": null,
   "metadata": {},
   "outputs": [],
   "source": [
    "allMetrics = []"
   ]
  },
  {
   "cell_type": "code",
   "execution_count": null,
   "metadata": {},
   "outputs": [],
   "source": [
    "# initialization\n",
    "NADINEnet = NADINE(dataStreams.nInput,dataStreams.nOutput)"
   ]
  },
  {
   "cell_type": "code",
   "execution_count": null,
   "metadata": {
    "scrolled": true
   },
   "outputs": [],
   "source": [
    "NADINEnet0, performanceHistory0, allPerformance = NADINEmainId(NADINEnet,dataStreams)\n",
    "allMetrics.append(allPerformance)"
   ]
  },
  {
   "cell_type": "code",
   "execution_count": null,
   "metadata": {
    "scrolled": false
   },
   "outputs": [],
   "source": [
    "plotPerformance(performanceHistory0[0],performanceHistory0[1],performanceHistory0[2],\n",
    "                performanceHistory0[3],performanceHistory0[4],performanceHistory0[5])"
   ]
  },
  {
   "cell_type": "code",
   "execution_count": null,
   "metadata": {},
   "outputs": [],
   "source": []
  },
  {
   "cell_type": "code",
   "execution_count": null,
   "metadata": {},
   "outputs": [],
   "source": [
    "# initialization\n",
    "NADINEnet = NADINE(dataStreams.nInput,dataStreams.nOutput)"
   ]
  },
  {
   "cell_type": "code",
   "execution_count": null,
   "metadata": {
    "scrolled": true
   },
   "outputs": [],
   "source": [
    "NADINEnet1, performanceHistory1, allPerformance = NADINEmainId(NADINEnet,dataStreams)\n",
    "allMetrics.append(allPerformance)"
   ]
  },
  {
   "cell_type": "code",
   "execution_count": null,
   "metadata": {},
   "outputs": [],
   "source": [
    "plotPerformance(performanceHistory1[0],performanceHistory1[1],performanceHistory1[2],\n",
    "                performanceHistory1[3],performanceHistory1[4],performanceHistory1[5])"
   ]
  },
  {
   "cell_type": "code",
   "execution_count": null,
   "metadata": {},
   "outputs": [],
   "source": []
  },
  {
   "cell_type": "code",
   "execution_count": null,
   "metadata": {},
   "outputs": [],
   "source": [
    "# initialization\n",
    "NADINEnet = NADINE(dataStreams.nInput,dataStreams.nOutput)"
   ]
  },
  {
   "cell_type": "code",
   "execution_count": null,
   "metadata": {
    "scrolled": true
   },
   "outputs": [],
   "source": [
    "NADINEnet2, performanceHistory2, allPerformance = NADINEmainId(NADINEnet,dataStreams)\n",
    "allMetrics.append(allPerformance)"
   ]
  },
  {
   "cell_type": "code",
   "execution_count": null,
   "metadata": {},
   "outputs": [],
   "source": [
    "plotPerformance(performanceHistory2[0],performanceHistory2[1],performanceHistory2[2],\n",
    "                performanceHistory2[3],performanceHistory2[4],performanceHistory2[5])"
   ]
  },
  {
   "cell_type": "code",
   "execution_count": null,
   "metadata": {},
   "outputs": [],
   "source": []
  },
  {
   "cell_type": "code",
   "execution_count": null,
   "metadata": {},
   "outputs": [],
   "source": [
    "# initialization\n",
    "NADINEnet = NADINE(dataStreams.nInput,dataStreams.nOutput)"
   ]
  },
  {
   "cell_type": "code",
   "execution_count": null,
   "metadata": {
    "scrolled": true
   },
   "outputs": [],
   "source": [
    "NADINEnet3, performanceHistory3, allPerformance = NADINEmainId(NADINEnet,dataStreams)\n",
    "allMetrics.append(allPerformance)"
   ]
  },
  {
   "cell_type": "code",
   "execution_count": null,
   "metadata": {},
   "outputs": [],
   "source": [
    "plotPerformance(performanceHistory3[0],performanceHistory3[1],performanceHistory3[2],\n",
    "                performanceHistory3[3],performanceHistory3[4],performanceHistory3[5])"
   ]
  },
  {
   "cell_type": "code",
   "execution_count": null,
   "metadata": {},
   "outputs": [],
   "source": []
  },
  {
   "cell_type": "code",
   "execution_count": null,
   "metadata": {},
   "outputs": [],
   "source": [
    "# initialization\n",
    "NADINEnet = NADINE(dataStreams.nInput,dataStreams.nOutput)"
   ]
  },
  {
   "cell_type": "code",
   "execution_count": null,
   "metadata": {
    "scrolled": true
   },
   "outputs": [],
   "source": [
    "NADINEnet4, performanceHistory4, allPerformance = NADINEmainId(NADINEnet,dataStreams)\n",
    "allMetrics.append(allPerformance)"
   ]
  },
  {
   "cell_type": "code",
   "execution_count": null,
   "metadata": {},
   "outputs": [],
   "source": [
    "plotPerformance(performanceHistory4[0],performanceHistory4[1],performanceHistory4[2],\n",
    "                performanceHistory4[3],performanceHistory4[4],performanceHistory4[5])"
   ]
  },
  {
   "cell_type": "code",
   "execution_count": null,
   "metadata": {},
   "outputs": [],
   "source": []
  },
  {
   "cell_type": "code",
   "execution_count": null,
   "metadata": {},
   "outputs": [],
   "source": [
    "# all results\n",
    "\n",
    "# 0: accuracy\n",
    "# 1: f1_score\n",
    "# 2: precision_score\n",
    "# 3: recall_score\n",
    "# 4: training_time\n",
    "# 5: testingTime\n",
    "# 6: nHiddenLayer\n",
    "# 7: nHiddenNode\n",
    "\n",
    "meanResults = np.round_(np.mean(allMetrics,0), decimals=2)\n",
    "stdResults  = np.round_(np.std(allMetrics,0), decimals=2)\n",
    "\n",
    "print('\\n')\n",
    "print('========== Performance occupancy ==========')\n",
    "print('Preq Accuracy: ', meanResults[0].item(), '(+/-)',stdResults[0].item())\n",
    "print('F1 score: ', meanResults[1].item(), '(+/-)',stdResults[1].item())\n",
    "print('Precision: ', meanResults[2].item(), '(+/-)',stdResults[2].item())\n",
    "print('Recall: ', meanResults[3].item(), '(+/-)',stdResults[3].item())\n",
    "print('Training time: ', meanResults[4].item(), '(+/-)',stdResults[4].item())\n",
    "print('Testing time: ', meanResults[5].item(), '(+/-)',stdResults[5].item())\n",
    "\n",
    "print('\\n')\n",
    "print('========== Network ==========')\n",
    "print('Number of hidden layers: ', meanResults[6].item(), '(+/-)',stdResults[6].item())\n",
    "print('Number of features: ', meanResults[7].item(), '(+/-)',stdResults[7].item())"
   ]
  }
 ],
 "metadata": {
  "kernelspec": {
   "display_name": "Python 3",
   "language": "python",
   "name": "python3"
  },
  "language_info": {
   "codemirror_mode": {
    "name": "ipython",
    "version": 3
   },
   "file_extension": ".py",
   "mimetype": "text/x-python",
   "name": "python",
   "nbconvert_exporter": "python",
   "pygments_lexer": "ipython3",
   "version": "3.7.6"
  }
 },
 "nbformat": 4,
 "nbformat_minor": 4
}
