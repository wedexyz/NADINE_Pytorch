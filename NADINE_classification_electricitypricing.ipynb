{
 "cells": [
  {
   "cell_type": "code",
   "execution_count": null,
   "metadata": {},
   "outputs": [],
   "source": [
    "from NADINEmainloop import NADINEmain, NADINEmainId\n",
    "from NADINEbasic import NADINE\n",
    "from utilsNADINE import dataLoader, plotPerformance\n",
    "import random\n",
    "import torch\n",
    "import numpy as np"
   ]
  },
  {
   "cell_type": "code",
   "execution_count": null,
   "metadata": {},
   "outputs": [],
   "source": []
  },
  {
   "cell_type": "code",
   "execution_count": null,
   "metadata": {},
   "outputs": [],
   "source": [
    "# random seed control\n",
    "np.random.seed(0)\n",
    "torch.manual_seed(0)\n",
    "random.seed(0)"
   ]
  },
  {
   "cell_type": "code",
   "execution_count": null,
   "metadata": {},
   "outputs": [],
   "source": [
    "# load data\n",
    "dataStreams = dataLoader('../dataset/electricitypricing2.mat')"
   ]
  },
  {
   "cell_type": "code",
   "execution_count": null,
   "metadata": {},
   "outputs": [],
   "source": [
    "print('All Data')"
   ]
  },
  {
   "cell_type": "code",
   "execution_count": null,
   "metadata": {},
   "outputs": [],
   "source": [
    "allMetrics = []"
   ]
  },
  {
   "cell_type": "code",
   "execution_count": null,
   "metadata": {},
   "outputs": [],
   "source": [
    "# initialization\n",
    "NADINEnet = NADINE(dataStreams.nInput,dataStreams.nOutput)"
   ]
  },
  {
   "cell_type": "code",
   "execution_count": null,
   "metadata": {
    "scrolled": true
   },
   "outputs": [],
   "source": [
    "NADINEnet0, performanceHistory0, allPerformance = NADINEmain(NADINEnet,dataStreams)\n",
    "allMetrics.append(allPerformance)"
   ]
  },
  {
   "cell_type": "code",
   "execution_count": null,
   "metadata": {
    "scrolled": false
   },
   "outputs": [],
   "source": [
    "plotPerformance(performanceHistory0[0],performanceHistory0[1],performanceHistory0[2],\n",
    "                performanceHistory0[3],performanceHistory0[4],performanceHistory0[5])"
   ]
  },
  {
   "cell_type": "code",
   "execution_count": null,
   "metadata": {},
   "outputs": [],
   "source": []
  },
  {
   "cell_type": "code",
   "execution_count": null,
   "metadata": {},
   "outputs": [],
   "source": [
    "# initialization\n",
    "NADINEnet = NADINE(dataStreams.nInput,dataStreams.nOutput)"
   ]
  },
  {
   "cell_type": "code",
   "execution_count": null,
   "metadata": {
    "scrolled": true
   },
   "outputs": [],
   "source": [
    "NADINEnet1, performanceHistory1, allPerformance = NADINEmain(NADINEnet,dataStreams)\n",
    "allMetrics.append(allPerformance)"
   ]
  },
  {
   "cell_type": "code",
   "execution_count": null,
   "metadata": {},
   "outputs": [],
   "source": [
    "plotPerformance(performanceHistory1[0],performanceHistory1[1],performanceHistory1[2],\n",
    "                performanceHistory1[3],performanceHistory1[4],performanceHistory1[5])"
   ]
  },
  {
   "cell_type": "code",
   "execution_count": null,
   "metadata": {},
   "outputs": [],
   "source": []
  },
  {
   "cell_type": "code",
   "execution_count": null,
   "metadata": {},
   "outputs": [],
   "source": [
    "# initialization\n",
    "NADINEnet = NADINE(dataStreams.nInput,dataStreams.nOutput)"
   ]
  },
  {
   "cell_type": "code",
   "execution_count": null,
   "metadata": {
    "scrolled": true
   },
   "outputs": [],
   "source": [
    "NADINEnet2, performanceHistory2, allPerformance = NADINEmain(NADINEnet,dataStreams)\n",
    "allMetrics.append(allPerformance)"
   ]
  },
  {
   "cell_type": "code",
   "execution_count": null,
   "metadata": {},
   "outputs": [],
   "source": [
    "plotPerformance(performanceHistory2[0],performanceHistory2[1],performanceHistory2[2],\n",
    "                performanceHistory2[3],performanceHistory2[4],performanceHistory2[5])"
   ]
  },
  {
   "cell_type": "code",
   "execution_count": null,
   "metadata": {},
   "outputs": [],
   "source": []
  },
  {
   "cell_type": "code",
   "execution_count": null,
   "metadata": {},
   "outputs": [],
   "source": [
    "# initialization\n",
    "NADINEnet = NADINE(dataStreams.nInput,dataStreams.nOutput)"
   ]
  },
  {
   "cell_type": "code",
   "execution_count": null,
   "metadata": {
    "scrolled": true
   },
   "outputs": [],
   "source": [
    "NADINEnet3, performanceHistory3, allPerformance = NADINEmain(NADINEnet,dataStreams)\n",
    "allMetrics.append(allPerformance)"
   ]
  },
  {
   "cell_type": "code",
   "execution_count": null,
   "metadata": {},
   "outputs": [],
   "source": [
    "plotPerformance(performanceHistory3[0],performanceHistory3[1],performanceHistory3[2],\n",
    "                performanceHistory3[3],performanceHistory3[4],performanceHistory3[5])"
   ]
  },
  {
   "cell_type": "code",
   "execution_count": null,
   "metadata": {},
   "outputs": [],
   "source": []
  },
  {
   "cell_type": "code",
   "execution_count": null,
   "metadata": {},
   "outputs": [],
   "source": [
    "# initialization\n",
    "NADINEnet = NADINE(dataStreams.nInput,dataStreams.nOutput)"
   ]
  },
  {
   "cell_type": "code",
   "execution_count": null,
   "metadata": {
    "scrolled": true
   },
   "outputs": [],
   "source": [
    "NADINEnet4, performanceHistory4, allPerformance = NADINEmain(NADINEnet,dataStreams)\n",
    "allMetrics.append(allPerformance)"
   ]
  },
  {
   "cell_type": "code",
   "execution_count": null,
   "metadata": {},
   "outputs": [],
   "source": [
    "plotPerformance(performanceHistory4[0],performanceHistory4[1],performanceHistory4[2],\n",
    "                performanceHistory4[3],performanceHistory4[4],performanceHistory4[5])"
   ]
  },
  {
   "cell_type": "code",
   "execution_count": null,
   "metadata": {},
   "outputs": [],
   "source": []
  },
  {
   "cell_type": "code",
   "execution_count": null,
   "metadata": {},
   "outputs": [],
   "source": [
    "# all results\n",
    "\n",
    "# 0: accuracy\n",
    "# 1: f1_score\n",
    "# 2: precision_score\n",
    "# 3: recall_score\n",
    "# 4: training_time\n",
    "# 5: testingTime\n",
    "# 6: nHiddenLayer\n",
    "# 7: nHiddenNode\n",
    "\n",
    "meanResults = np.round_(np.mean(allMetrics,0), decimals=2)\n",
    "stdResults  = np.round_(np.std(allMetrics,0), decimals=2)\n",
    "\n",
    "print('\\n')\n",
    "print('========== Performance occupancy ==========')\n",
    "print('Preq Accuracy: ', meanResults[0].item(), '(+/-)',stdResults[0].item())\n",
    "print('F1 score: ', meanResults[1].item(), '(+/-)',stdResults[1].item())\n",
    "print('Precision: ', meanResults[2].item(), '(+/-)',stdResults[2].item())\n",
    "print('Recall: ', meanResults[3].item(), '(+/-)',stdResults[3].item())\n",
    "print('Training time: ', meanResults[4].item(), '(+/-)',stdResults[4].item())\n",
    "print('Testing time: ', meanResults[5].item(), '(+/-)',stdResults[5].item())\n",
    "\n",
    "print('\\n')\n",
    "print('========== Network ==========')\n",
    "print('Number of hidden layers: ', meanResults[6].item(), '(+/-)',stdResults[6].item())\n",
    "print('Number of features: ', meanResults[7].item(), '(+/-)',stdResults[7].item())"
   ]
  },
  {
   "cell_type": "code",
   "execution_count": null,
   "metadata": {},
   "outputs": [],
   "source": []
  },
  {
   "cell_type": "markdown",
   "metadata": {},
   "source": [
    "### 50% labeled data"
   ]
  },
  {
   "cell_type": "code",
   "execution_count": null,
   "metadata": {},
   "outputs": [],
   "source": [
    "## dataset\n",
    "# sea\n",
    "# hyperplane\n",
    "# weather\n",
    "# rfid\n",
    "# permutedMnist\n",
    "# rotatedMnist\n",
    "# susy\n",
    "# hepmass"
   ]
  },
  {
   "cell_type": "code",
   "execution_count": null,
   "metadata": {},
   "outputs": [],
   "source": [
    "print('50% Data')"
   ]
  },
  {
   "cell_type": "code",
   "execution_count": null,
   "metadata": {},
   "outputs": [],
   "source": [
    "# initialization\n",
    "NADINEnet = NADINE(dataStreams.nInput,dataStreams.nOutput)"
   ]
  },
  {
   "cell_type": "code",
   "execution_count": null,
   "metadata": {
    "scrolled": true
   },
   "outputs": [],
   "source": [
    "NADINEnet0, performanceHistory0 = NADINEmain(NADINEnet,dataStreams,labeled = False, nLabeled = 0.5)"
   ]
  },
  {
   "cell_type": "code",
   "execution_count": null,
   "metadata": {
    "scrolled": false
   },
   "outputs": [],
   "source": [
    "plotPerformance(performanceHistory0[0],performanceHistory0[1],performanceHistory0[2],\n",
    "                performanceHistory0[3],performanceHistory0[4],performanceHistory0[5])"
   ]
  },
  {
   "cell_type": "code",
   "execution_count": null,
   "metadata": {},
   "outputs": [],
   "source": []
  },
  {
   "cell_type": "code",
   "execution_count": null,
   "metadata": {},
   "outputs": [],
   "source": [
    "# initialization\n",
    "NADINEnet = NADINE(dataStreams.nInput,dataStreams.nOutput)"
   ]
  },
  {
   "cell_type": "code",
   "execution_count": null,
   "metadata": {
    "scrolled": true
   },
   "outputs": [],
   "source": [
    "NADINEnet1, performanceHistory1 = NADINEmain(NADINEnet,dataStreams,labeled = False, nLabeled = 0.5)"
   ]
  },
  {
   "cell_type": "code",
   "execution_count": null,
   "metadata": {},
   "outputs": [],
   "source": [
    "plotPerformance(performanceHistory1[0],performanceHistory1[1],performanceHistory1[2],\n",
    "                performanceHistory1[3],performanceHistory1[4],performanceHistory1[5])"
   ]
  },
  {
   "cell_type": "code",
   "execution_count": null,
   "metadata": {},
   "outputs": [],
   "source": []
  },
  {
   "cell_type": "code",
   "execution_count": null,
   "metadata": {},
   "outputs": [],
   "source": [
    "# initialization\n",
    "NADINEnet = NADINE(dataStreams.nInput,dataStreams.nOutput)"
   ]
  },
  {
   "cell_type": "code",
   "execution_count": null,
   "metadata": {
    "scrolled": true
   },
   "outputs": [],
   "source": [
    "NADINEnet2, performanceHistory2 = NADINEmain(NADINEnet,dataStreams,labeled = False, nLabeled = 0.5)"
   ]
  },
  {
   "cell_type": "code",
   "execution_count": null,
   "metadata": {},
   "outputs": [],
   "source": [
    "plotPerformance(performanceHistory2[0],performanceHistory2[1],performanceHistory2[2],\n",
    "                performanceHistory2[3],performanceHistory2[4],performanceHistory2[5])"
   ]
  },
  {
   "cell_type": "code",
   "execution_count": null,
   "metadata": {},
   "outputs": [],
   "source": []
  },
  {
   "cell_type": "code",
   "execution_count": null,
   "metadata": {},
   "outputs": [],
   "source": [
    "# initialization\n",
    "NADINEnet = NADINE(dataStreams.nInput,dataStreams.nOutput)"
   ]
  },
  {
   "cell_type": "code",
   "execution_count": null,
   "metadata": {
    "scrolled": true
   },
   "outputs": [],
   "source": [
    "NADINEnet3, performanceHistory3 = NADINEmain(NADINEnet,dataStreams,labeled = False, nLabeled = 0.5)"
   ]
  },
  {
   "cell_type": "code",
   "execution_count": null,
   "metadata": {},
   "outputs": [],
   "source": [
    "plotPerformance(performanceHistory3[0],performanceHistory3[1],performanceHistory3[2],\n",
    "                performanceHistory3[3],performanceHistory3[4],performanceHistory3[5])"
   ]
  },
  {
   "cell_type": "code",
   "execution_count": null,
   "metadata": {},
   "outputs": [],
   "source": []
  },
  {
   "cell_type": "code",
   "execution_count": null,
   "metadata": {},
   "outputs": [],
   "source": [
    "# initialization\n",
    "NADINEnet = NADINE(dataStreams.nInput,dataStreams.nOutput)"
   ]
  },
  {
   "cell_type": "code",
   "execution_count": null,
   "metadata": {
    "scrolled": true
   },
   "outputs": [],
   "source": [
    "NADINEnet4, performanceHistory4 = NADINEmain(NADINEnet,dataStreams,labeled = False, nLabeled = 0.5)"
   ]
  },
  {
   "cell_type": "code",
   "execution_count": null,
   "metadata": {},
   "outputs": [],
   "source": [
    "plotPerformance(performanceHistory4[0],performanceHistory4[1],performanceHistory4[2],\n",
    "                performanceHistory4[3],performanceHistory4[4],performanceHistory4[5])"
   ]
  },
  {
   "cell_type": "code",
   "execution_count": null,
   "metadata": {},
   "outputs": [],
   "source": []
  },
  {
   "cell_type": "code",
   "execution_count": null,
   "metadata": {},
   "outputs": [],
   "source": [
    "# average performance\n",
    "print('Mean Accuracy: ', np.mean([performanceHistory0[1][1:]+performanceHistory1[1][1:]+\n",
    "                                 performanceHistory2[1][1:]+performanceHistory3[1][1:]+\n",
    "                                 performanceHistory4[1][1:]]))\n",
    "print('Std Accuracy: ', np.std([performanceHistory0[1][1:]+performanceHistory1[1][1:]+\n",
    "                                 performanceHistory2[1][1:]+performanceHistory3[1][1:]+\n",
    "                                 performanceHistory4[1][1:]]))\n",
    "\n",
    "print('Hidden Node mean', np.mean([performanceHistory0[3][1:]+performanceHistory1[3][1:]+\n",
    "                                 performanceHistory2[3][1:]+performanceHistory3[3][1:]+\n",
    "                                 performanceHistory4[3][1:]]))\n",
    "print('Hidden Node std: ', np.std([performanceHistory0[3][1:]+performanceHistory1[3][1:]+\n",
    "                                 performanceHistory2[3][1:]+performanceHistory3[3][1:]+\n",
    "                                 performanceHistory4[3][1:]]))\n",
    "\n",
    "print('Hidden Layer mean: ', np.mean([performanceHistory0[4][1:]+performanceHistory1[4][1:]+\n",
    "                                 performanceHistory2[4][1:]+performanceHistory3[4][1:]+\n",
    "                                 performanceHistory4[4][1:]]))\n",
    "print('Hidden Layer std: ', np.std([performanceHistory0[4][1:]+performanceHistory1[4][1:]+\n",
    "                                 performanceHistory2[4][1:]+performanceHistory3[4][1:]+\n",
    "                                 performanceHistory4[4][1:]]))"
   ]
  },
  {
   "cell_type": "code",
   "execution_count": null,
   "metadata": {},
   "outputs": [],
   "source": []
  },
  {
   "cell_type": "code",
   "execution_count": null,
   "metadata": {},
   "outputs": [],
   "source": []
  },
  {
   "cell_type": "markdown",
   "metadata": {},
   "source": [
    "### 25% Labeled Data"
   ]
  },
  {
   "cell_type": "code",
   "execution_count": null,
   "metadata": {},
   "outputs": [],
   "source": [
    "print('25% Data')"
   ]
  },
  {
   "cell_type": "code",
   "execution_count": null,
   "metadata": {},
   "outputs": [],
   "source": [
    "# initialization\n",
    "NADINEnet = NADINE(dataStreams.nInput,dataStreams.nOutput)"
   ]
  },
  {
   "cell_type": "code",
   "execution_count": null,
   "metadata": {
    "scrolled": true
   },
   "outputs": [],
   "source": [
    "NADINEnet0, performanceHistory0 = NADINEmain(NADINEnet,dataStreams,labeled = False, nLabeled = 0.25)"
   ]
  },
  {
   "cell_type": "code",
   "execution_count": null,
   "metadata": {
    "scrolled": false
   },
   "outputs": [],
   "source": [
    "plotPerformance(performanceHistory0[0],performanceHistory0[1],performanceHistory0[2],\n",
    "                performanceHistory0[3],performanceHistory0[4],performanceHistory0[5])"
   ]
  },
  {
   "cell_type": "code",
   "execution_count": null,
   "metadata": {},
   "outputs": [],
   "source": []
  },
  {
   "cell_type": "code",
   "execution_count": null,
   "metadata": {},
   "outputs": [],
   "source": [
    "# initialization\n",
    "NADINEnet = NADINE(dataStreams.nInput,dataStreams.nOutput)"
   ]
  },
  {
   "cell_type": "code",
   "execution_count": null,
   "metadata": {
    "scrolled": true
   },
   "outputs": [],
   "source": [
    "NADINEnet1, performanceHistory1 = NADINEmain(NADINEnet,dataStreams,labeled = False, nLabeled = 0.25)"
   ]
  },
  {
   "cell_type": "code",
   "execution_count": null,
   "metadata": {},
   "outputs": [],
   "source": [
    "plotPerformance(performanceHistory1[0],performanceHistory1[1],performanceHistory1[2],\n",
    "                performanceHistory1[3],performanceHistory1[4],performanceHistory1[5])"
   ]
  },
  {
   "cell_type": "code",
   "execution_count": null,
   "metadata": {},
   "outputs": [],
   "source": []
  },
  {
   "cell_type": "code",
   "execution_count": null,
   "metadata": {},
   "outputs": [],
   "source": [
    "# initialization\n",
    "NADINEnet = NADINE(dataStreams.nInput,dataStreams.nOutput)"
   ]
  },
  {
   "cell_type": "code",
   "execution_count": null,
   "metadata": {
    "scrolled": true
   },
   "outputs": [],
   "source": [
    "NADINEnet2, performanceHistory2 = NADINEmain(NADINEnet,dataStreams,labeled = False, nLabeled = 0.25)"
   ]
  },
  {
   "cell_type": "code",
   "execution_count": null,
   "metadata": {},
   "outputs": [],
   "source": [
    "plotPerformance(performanceHistory2[0],performanceHistory2[1],performanceHistory2[2],\n",
    "                performanceHistory2[3],performanceHistory2[4],performanceHistory2[5])"
   ]
  },
  {
   "cell_type": "code",
   "execution_count": null,
   "metadata": {},
   "outputs": [],
   "source": []
  },
  {
   "cell_type": "code",
   "execution_count": null,
   "metadata": {},
   "outputs": [],
   "source": [
    "# initialization\n",
    "NADINEnet = NADINE(dataStreams.nInput,dataStreams.nOutput)"
   ]
  },
  {
   "cell_type": "code",
   "execution_count": null,
   "metadata": {
    "scrolled": true
   },
   "outputs": [],
   "source": [
    "NADINEnet3, performanceHistory3 = NADINEmain(NADINEnet,dataStreams,labeled = False, nLabeled = 0.25)"
   ]
  },
  {
   "cell_type": "code",
   "execution_count": null,
   "metadata": {},
   "outputs": [],
   "source": [
    "plotPerformance(performanceHistory3[0],performanceHistory3[1],performanceHistory3[2],\n",
    "                performanceHistory3[3],performanceHistory3[4],performanceHistory3[5])"
   ]
  },
  {
   "cell_type": "code",
   "execution_count": null,
   "metadata": {},
   "outputs": [],
   "source": []
  },
  {
   "cell_type": "code",
   "execution_count": null,
   "metadata": {},
   "outputs": [],
   "source": [
    "# initialization\n",
    "NADINEnet = NADINE(dataStreams.nInput,dataStreams.nOutput)"
   ]
  },
  {
   "cell_type": "code",
   "execution_count": null,
   "metadata": {
    "scrolled": true
   },
   "outputs": [],
   "source": [
    "NADINEnet4, performanceHistory4 = NADINEmain(NADINEnet,dataStreams,labeled = False, nLabeled = 0.25)"
   ]
  },
  {
   "cell_type": "code",
   "execution_count": null,
   "metadata": {},
   "outputs": [],
   "source": [
    "plotPerformance(performanceHistory4[0],performanceHistory4[1],performanceHistory4[2],\n",
    "                performanceHistory4[3],performanceHistory4[4],performanceHistory4[5])"
   ]
  },
  {
   "cell_type": "code",
   "execution_count": null,
   "metadata": {},
   "outputs": [],
   "source": []
  },
  {
   "cell_type": "code",
   "execution_count": null,
   "metadata": {},
   "outputs": [],
   "source": [
    "# average performance\n",
    "print('Mean Accuracy: ', np.mean([performanceHistory0[1][1:]+performanceHistory1[1][1:]+\n",
    "                                 performanceHistory2[1][1:]+performanceHistory3[1][1:]+\n",
    "                                 performanceHistory4[1][1:]]))\n",
    "print('Std Accuracy: ', np.std([performanceHistory0[1][1:]+performanceHistory1[1][1:]+\n",
    "                                 performanceHistory2[1][1:]+performanceHistory3[1][1:]+\n",
    "                                 performanceHistory4[1][1:]]))\n",
    "\n",
    "print('Hidden Node mean', np.mean([performanceHistory0[3][1:]+performanceHistory1[3][1:]+\n",
    "                                 performanceHistory2[3][1:]+performanceHistory3[3][1:]+\n",
    "                                 performanceHistory4[3][1:]]))\n",
    "print('Hidden Node std: ', np.std([performanceHistory0[3][1:]+performanceHistory1[3][1:]+\n",
    "                                 performanceHistory2[3][1:]+performanceHistory3[3][1:]+\n",
    "                                 performanceHistory4[3][1:]]))\n",
    "\n",
    "print('Hidden Layer mean: ', np.mean([performanceHistory0[4][1:]+performanceHistory1[4][1:]+\n",
    "                                 performanceHistory2[4][1:]+performanceHistory3[4][1:]+\n",
    "                                 performanceHistory4[4][1:]]))\n",
    "print('Hidden Layer std: ', np.std([performanceHistory0[4][1:]+performanceHistory1[4][1:]+\n",
    "                                 performanceHistory2[4][1:]+performanceHistory3[4][1:]+\n",
    "                                 performanceHistory4[4][1:]]))"
   ]
  },
  {
   "cell_type": "code",
   "execution_count": null,
   "metadata": {},
   "outputs": [],
   "source": []
  },
  {
   "cell_type": "code",
   "execution_count": null,
   "metadata": {},
   "outputs": [],
   "source": []
  },
  {
   "cell_type": "markdown",
   "metadata": {},
   "source": [
    "### Infinite Delay"
   ]
  },
  {
   "cell_type": "code",
   "execution_count": null,
   "metadata": {},
   "outputs": [],
   "source": [
    "print('Infinite Delay')"
   ]
  },
  {
   "cell_type": "code",
   "execution_count": null,
   "metadata": {},
   "outputs": [],
   "source": [
    "# initialization\n",
    "NADINEnet = NADINE(dataStreams.nInput,dataStreams.nOutput)"
   ]
  },
  {
   "cell_type": "code",
   "execution_count": null,
   "metadata": {
    "scrolled": true
   },
   "outputs": [],
   "source": [
    "NADINEnet0, performanceHistory0 = NADINEmainId(NADINEnet,dataStreams)"
   ]
  },
  {
   "cell_type": "code",
   "execution_count": null,
   "metadata": {
    "scrolled": false
   },
   "outputs": [],
   "source": [
    "plotPerformance(performanceHistory0[0],performanceHistory0[1],performanceHistory0[2],\n",
    "                performanceHistory0[3],performanceHistory0[4],performanceHistory0[5])"
   ]
  },
  {
   "cell_type": "code",
   "execution_count": null,
   "metadata": {},
   "outputs": [],
   "source": []
  },
  {
   "cell_type": "code",
   "execution_count": null,
   "metadata": {},
   "outputs": [],
   "source": [
    "# initialization\n",
    "NADINEnet = NADINE(dataStreams.nInput,dataStreams.nOutput)"
   ]
  },
  {
   "cell_type": "code",
   "execution_count": null,
   "metadata": {
    "scrolled": true
   },
   "outputs": [],
   "source": [
    "NADINEnet1, performanceHistory1 = NADINEmainId(NADINEnet,dataStreams)"
   ]
  },
  {
   "cell_type": "code",
   "execution_count": null,
   "metadata": {},
   "outputs": [],
   "source": [
    "plotPerformance(performanceHistory1[0],performanceHistory1[1],performanceHistory1[2],\n",
    "                performanceHistory1[3],performanceHistory1[4],performanceHistory1[5])"
   ]
  },
  {
   "cell_type": "code",
   "execution_count": null,
   "metadata": {},
   "outputs": [],
   "source": []
  },
  {
   "cell_type": "code",
   "execution_count": null,
   "metadata": {},
   "outputs": [],
   "source": [
    "# initialization\n",
    "NADINEnet = NADINE(dataStreams.nInput,dataStreams.nOutput)"
   ]
  },
  {
   "cell_type": "code",
   "execution_count": null,
   "metadata": {
    "scrolled": true
   },
   "outputs": [],
   "source": [
    "NADINEnet2, performanceHistory2 = NADINEmainId(NADINEnet,dataStreams)"
   ]
  },
  {
   "cell_type": "code",
   "execution_count": null,
   "metadata": {},
   "outputs": [],
   "source": [
    "plotPerformance(performanceHistory2[0],performanceHistory2[1],performanceHistory2[2],\n",
    "                performanceHistory2[3],performanceHistory2[4],performanceHistory2[5])"
   ]
  },
  {
   "cell_type": "code",
   "execution_count": null,
   "metadata": {},
   "outputs": [],
   "source": []
  },
  {
   "cell_type": "code",
   "execution_count": null,
   "metadata": {},
   "outputs": [],
   "source": [
    "# initialization\n",
    "NADINEnet = NADINE(dataStreams.nInput,dataStreams.nOutput)"
   ]
  },
  {
   "cell_type": "code",
   "execution_count": null,
   "metadata": {
    "scrolled": true
   },
   "outputs": [],
   "source": [
    "NADINEnet3, performanceHistory3 = NADINEmainId(NADINEnet,dataStreams)"
   ]
  },
  {
   "cell_type": "code",
   "execution_count": null,
   "metadata": {},
   "outputs": [],
   "source": [
    "plotPerformance(performanceHistory3[0],performanceHistory3[1],performanceHistory3[2],\n",
    "                performanceHistory3[3],performanceHistory3[4],performanceHistory3[5])"
   ]
  },
  {
   "cell_type": "code",
   "execution_count": null,
   "metadata": {},
   "outputs": [],
   "source": []
  },
  {
   "cell_type": "code",
   "execution_count": null,
   "metadata": {},
   "outputs": [],
   "source": [
    "# initialization\n",
    "NADINEnet = NADINE(dataStreams.nInput,dataStreams.nOutput)"
   ]
  },
  {
   "cell_type": "code",
   "execution_count": null,
   "metadata": {
    "scrolled": true
   },
   "outputs": [],
   "source": [
    "NADINEnet4, performanceHistory4 = NADINEmainId(NADINEnet,dataStreams)"
   ]
  },
  {
   "cell_type": "code",
   "execution_count": null,
   "metadata": {},
   "outputs": [],
   "source": [
    "plotPerformance(performanceHistory4[0],performanceHistory4[1],performanceHistory4[2],\n",
    "                performanceHistory4[3],performanceHistory4[4],performanceHistory4[5])"
   ]
  },
  {
   "cell_type": "code",
   "execution_count": null,
   "metadata": {},
   "outputs": [],
   "source": []
  },
  {
   "cell_type": "code",
   "execution_count": null,
   "metadata": {},
   "outputs": [],
   "source": [
    "# average performance\n",
    "print('Mean Accuracy: ', np.mean([performanceHistory0[1][1:]+performanceHistory1[1][1:]+\n",
    "                                 performanceHistory2[1][1:]+performanceHistory3[1][1:]+\n",
    "                                 performanceHistory4[1][1:]]))\n",
    "print('Std Accuracy: ', np.std([performanceHistory0[1][1:]+performanceHistory1[1][1:]+\n",
    "                                 performanceHistory2[1][1:]+performanceHistory3[1][1:]+\n",
    "                                 performanceHistory4[1][1:]]))\n",
    "\n",
    "print('Hidden Node mean', np.mean([performanceHistory0[3][1:]+performanceHistory1[3][1:]+\n",
    "                                 performanceHistory2[3][1:]+performanceHistory3[3][1:]+\n",
    "                                 performanceHistory4[3][1:]]))\n",
    "print('Hidden Node std: ', np.std([performanceHistory0[3][1:]+performanceHistory1[3][1:]+\n",
    "                                 performanceHistory2[3][1:]+performanceHistory3[3][1:]+\n",
    "                                 performanceHistory4[3][1:]]))\n",
    "\n",
    "print('Hidden Layer mean: ', np.mean([performanceHistory0[4][1:]+performanceHistory1[4][1:]+\n",
    "                                 performanceHistory2[4][1:]+performanceHistory3[4][1:]+\n",
    "                                 performanceHistory4[4][1:]]))\n",
    "print('Hidden Layer std: ', np.std([performanceHistory0[4][1:]+performanceHistory1[4][1:]+\n",
    "                                 performanceHistory2[4][1:]+performanceHistory3[4][1:]+\n",
    "                                 performanceHistory4[4][1:]]))"
   ]
  },
  {
   "cell_type": "code",
   "execution_count": null,
   "metadata": {},
   "outputs": [],
   "source": []
  }
 ],
 "metadata": {
  "kernelspec": {
   "display_name": "Python 3",
   "language": "python",
   "name": "python3"
  },
  "language_info": {
   "codemirror_mode": {
    "name": "ipython",
    "version": 3
   },
   "file_extension": ".py",
   "mimetype": "text/x-python",
   "name": "python",
   "nbconvert_exporter": "python",
   "pygments_lexer": "ipython3",
   "version": "3.7.6"
  }
 },
 "nbformat": 4,
 "nbformat_minor": 4
}
